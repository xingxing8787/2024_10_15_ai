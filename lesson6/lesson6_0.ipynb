{
 "cells": [
  {
   "cell_type": "code",
   "execution_count": 1,
   "metadata": {},
   "outputs": [
    {
     "name": "stdout",
     "output_type": "stream",
     "text": [
      "10的因數有:1 2 5 10 "
     ]
    }
   ],
   "source": [
    "try:\n",
    "    x = int(input(\"請輸入整數\"))\n",
    "    print(f\"{x}的因數有:\",end='')\n",
    "    for i in range(1,x+1):\n",
    "        if(x%i==0):\n",
    "            print(f\"{i}\",end=' ')\n",
    "except Exception:\n",
    "    print(\"格式錯誤\")  "
   ]
  },
  {
   "cell_type": "code",
   "execution_count": 3,
   "metadata": {},
   "outputs": [
    {
     "name": "stdout",
     "output_type": "stream",
     "text": [
      "恭喜!已經存夠了，存了1個月的總存款為:30000元\n"
     ]
    }
   ],
   "source": [
    "deposit= 0\n",
    "month=0\n",
    "\n",
    "while(True):\n",
    "    month +=1\n",
    "    money =int(input(f\"輸入第{month}月份存款\"))\n",
    "    deposit +=money\n",
    "    if deposit >=30000:\n",
    "        break\n",
    "print(f\"恭喜!已經存夠了，存了{month}個月的總存款為:{deposit}元\")"
   ]
  },
  {
   "cell_type": "code",
   "execution_count": 6,
   "metadata": {},
   "outputs": [
    {
     "name": "stdout",
     "output_type": "stream",
     "text": [
      "程式結束\n"
     ]
    }
   ],
   "source": [
    "while(True):\n",
    "    stuff=input(\"輸入小寫英文字[按q會離開]:\")\n",
    "    if(stuff.upper() =='Q'):\n",
    "        break\n",
    "    print(stuff.capitalize())\n",
    "print(\"程式結束\")"
   ]
  },
  {
   "cell_type": "code",
   "execution_count": 8,
   "metadata": {},
   "outputs": [
    {
     "name": "stdout",
     "output_type": "stream",
     "text": [
      "2\n",
      "6\n",
      "10\n",
      "14\n",
      "18\n",
      "請重新輸入:\n",
      "程式結束\n"
     ]
    }
   ],
   "source": [
    "while(True):\n",
    "    value=input(\"請輸入整數,[按q會離開]:\")\n",
    "    if value.upper() ==\"Q\":\n",
    "        break\n",
    "    try:\n",
    "        value_int=int(value)\n",
    "    except:\n",
    "        print(\"請重新輸入:\")\n",
    "        continue\n",
    "    if not (value_int%2==0):\n",
    "        print(value_int*2)\n",
    "print(\"程式結束\")"
   ]
  },
  {
   "cell_type": "code",
   "execution_count": null,
   "metadata": {},
   "outputs": [],
   "source": []
  }
 ],
 "metadata": {
  "kernelspec": {
   "display_name": "Python 3",
   "language": "python",
   "name": "python3"
  },
  "language_info": {
   "codemirror_mode": {
    "name": "ipython",
    "version": 3
   },
   "file_extension": ".py",
   "mimetype": "text/x-python",
   "name": "python",
   "nbconvert_exporter": "python",
   "pygments_lexer": "ipython3",
   "version": "3.10.15"
  }
 },
 "nbformat": 4,
 "nbformat_minor": 2
}
