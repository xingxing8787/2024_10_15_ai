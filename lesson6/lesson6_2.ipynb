{
 "cells": [
  {
   "cell_type": "code",
   "execution_count": 1,
   "metadata": {},
   "outputs": [
    {
     "name": "stdout",
     "output_type": "stream",
     "text": [
      "a=31415.926\n",
      "a1=38013.27046\n"
     ]
    }
   ],
   "source": [
    "def circle_area(radius:int)->float:\n",
    "    area=3.1415926 *radius**2\n",
    "    return area\n",
    "\n",
    "r=int(input(\"請輸入半徑:\"))\n",
    "a=circle_area(r)\n",
    "a1=circle_area(radius=r+10)\n",
    "print(f\"a={a}\")\n",
    "print(f\"a1={a1}\")\n"
   ]
  }
 ],
 "metadata": {
  "kernelspec": {
   "display_name": "Python 3",
   "language": "python",
   "name": "python3"
  },
  "language_info": {
   "codemirror_mode": {
    "name": "ipython",
    "version": 3
   },
   "file_extension": ".py",
   "mimetype": "text/x-python",
   "name": "python",
   "nbconvert_exporter": "python",
   "pygments_lexer": "ipython3",
   "version": "3.10.15"
  }
 },
 "nbformat": 4,
 "nbformat_minor": 2
}
