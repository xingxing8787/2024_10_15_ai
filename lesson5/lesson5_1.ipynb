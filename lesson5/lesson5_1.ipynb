{
 "cells": [
  {
   "cell_type": "code",
   "execution_count": 1,
   "metadata": {},
   "outputs": [
    {
     "name": "stdout",
     "output_type": "stream",
     "text": [
      "獎金:500\n"
     ]
    }
   ],
   "source": [
    "chinese =int(input(\"輸入國文分數:\"))\n",
    "math = int(input(\"輸入數學分數:\"))\n",
    "\n",
    "if chinese == 100:\n",
    "    if math == 100:\n",
    "        bonus = 1000\n",
    "    else:\n",
    "        bouns =500\n",
    "elif math ==100:\n",
    "    bouns =500\n",
    "else:\n",
    "    bouns = 0\n",
    "\n",
    "print(f\"獎金:{bouns}\")"
   ]
  },
  {
   "cell_type": "code",
   "execution_count": 2,
   "metadata": {},
   "outputs": [
    {
     "name": "stdout",
     "output_type": "stream",
     "text": [
      "可以考駕照\n"
     ]
    }
   ],
   "source": [
    "age=19\n",
    "\n",
    "if not age>=18:\n",
    "    print(\"不可以考駕照\")\n",
    "else:\n",
    "    print(\"可以考駕照\")"
   ]
  },
  {
   "cell_type": "code",
   "execution_count": null,
   "metadata": {},
   "outputs": [],
   "source": [
    "chinese = int(input(\"輸入國文分數\"))\n",
    "math=int(input(\"輸入數學分數\"))\n",
    "\n",
    "if chinese ==100 and math ==100:\n",
    "    bouns=1000\n",
    "elif chinese ==100 or math == 100:\n",
    "    bouns=500\n",
    "else:\n",
    "    bouns=0\n",
    "print(f\"獎金:{bouns}\")"
   ]
  },
  {
   "cell_type": "code",
   "execution_count": null,
   "metadata": {},
   "outputs": [],
   "source": [
    "press =int(input(\"輸入血壓值:\"))\n",
    "if 90<=press<=120:\n",
    "    print(\"正常\")\n",
    "else:\n",
    "    print(\"不正常\")\n"
   ]
  }
 ],
 "metadata": {
  "kernelspec": {
   "display_name": "Python 3",
   "language": "python",
   "name": "python3"
  },
  "language_info": {
   "codemirror_mode": {
    "name": "ipython",
    "version": 3
   },
   "file_extension": ".py",
   "mimetype": "text/x-python",
   "name": "python",
   "nbconvert_exporter": "python",
   "pygments_lexer": "ipython3",
   "version": "3.10.15"
  }
 },
 "nbformat": 4,
 "nbformat_minor": 2
}
