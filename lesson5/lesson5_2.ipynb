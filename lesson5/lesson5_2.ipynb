{
 "cells": [
  {
   "cell_type": "markdown",
   "metadata": {},
   "source": [
    "### loop\n"
   ]
  },
  {
   "cell_type": "code",
   "execution_count": 7,
   "metadata": {},
   "outputs": [
    {
     "data": {
      "text/plain": [
       "45"
      ]
     },
     "execution_count": 7,
     "metadata": {},
     "output_type": "execute_result"
    }
   ],
   "source": [
    "sum=0\n",
    "for i in range(1,10):\n",
    "    sum+=i\n",
    "sum"
   ]
  },
  {
   "cell_type": "code",
   "execution_count": 1,
   "metadata": {},
   "outputs": [
    {
     "name": "stdout",
     "output_type": "stream",
     "text": [
      "p\n",
      "y\n",
      "t\n",
      "h\n",
      "o\n",
      "n\n"
     ]
    }
   ],
   "source": [
    "for word in 'python':\n",
    "    print(word)"
   ]
  },
  {
   "cell_type": "code",
   "execution_count": 6,
   "metadata": {},
   "outputs": [
    {
     "name": "stdout",
     "output_type": "stream",
     "text": [
      "i=1\n",
      "1 * 1 =1\t 1 * 2 =2\t 1 * 3 =3\t 1 * 4 =4\t 1 * 5 =5\t 1 * 6 =6\t 1 * 7 =7\t 1 * 8 =8\t 1 * 9 =9\t \n",
      "i=2\n",
      "2 * 1 =2\t 2 * 2 =4\t 2 * 3 =6\t 2 * 4 =8\t 2 * 5 =10\t 2 * 6 =12\t 2 * 7 =14\t 2 * 8 =16\t 2 * 9 =18\t \n",
      "i=3\n",
      "3 * 1 =3\t 3 * 2 =6\t 3 * 3 =9\t 3 * 4 =12\t 3 * 5 =15\t 3 * 6 =18\t 3 * 7 =21\t 3 * 8 =24\t 3 * 9 =27\t \n",
      "i=4\n",
      "4 * 1 =4\t 4 * 2 =8\t 4 * 3 =12\t 4 * 4 =16\t 4 * 5 =20\t 4 * 6 =24\t 4 * 7 =28\t 4 * 8 =32\t 4 * 9 =36\t \n",
      "i=5\n",
      "5 * 1 =5\t 5 * 2 =10\t 5 * 3 =15\t 5 * 4 =20\t 5 * 5 =25\t 5 * 6 =30\t 5 * 7 =35\t 5 * 8 =40\t 5 * 9 =45\t \n",
      "i=6\n",
      "6 * 1 =6\t 6 * 2 =12\t 6 * 3 =18\t 6 * 4 =24\t 6 * 5 =30\t 6 * 6 =36\t 6 * 7 =42\t 6 * 8 =48\t 6 * 9 =54\t \n",
      "i=7\n",
      "7 * 1 =7\t 7 * 2 =14\t 7 * 3 =21\t 7 * 4 =28\t 7 * 5 =35\t 7 * 6 =42\t 7 * 7 =49\t 7 * 8 =56\t 7 * 9 =63\t \n",
      "i=8\n",
      "8 * 1 =8\t 8 * 2 =16\t 8 * 3 =24\t 8 * 4 =32\t 8 * 5 =40\t 8 * 6 =48\t 8 * 7 =56\t 8 * 8 =64\t 8 * 9 =72\t \n",
      "i=9\n",
      "9 * 1 =9\t 9 * 2 =18\t 9 * 3 =27\t 9 * 4 =36\t 9 * 5 =45\t 9 * 6 =54\t 9 * 7 =63\t 9 * 8 =72\t 9 * 9 =81\t \n"
     ]
    }
   ],
   "source": [
    "#巢狀迴圈\n",
    "for i in range(1,10):\n",
    "    print(f\"i={i}\")\n",
    "    for j in range(1,10):\n",
    "        print(f'{i} * {j} ={i*j}',end='\\t ')\n",
    "    print()"
   ]
  },
  {
   "cell_type": "code",
   "execution_count": 3,
   "metadata": {},
   "outputs": [
    {
     "name": "stdout",
     "output_type": "stream",
     "text": [
      "\n",
      "1 2 3 a b c\n",
      "2.3\n",
      "1-2-3-a-b-c.\n"
     ]
    }
   ],
   "source": [
    "print()\n",
    "print(1, 2, 3, 'a', 'b', 'c')\n",
    "print(2.3)\n",
    "print(1, 2, 3, 'a', 'b', 'c',sep='-',end='.\\n')"
   ]
  },
  {
   "cell_type": "code",
   "execution_count": 13,
   "metadata": {},
   "outputs": [
    {
     "name": "stdout",
     "output_type": "stream",
     "text": [
      "格式錯誤\n"
     ]
    }
   ],
   "source": [
    "try:\n",
    "    w =int(input(\"輸入整數\"))\n",
    "    for i in range(1,w+1):\n",
    "        if(w%i==0):\n",
    "            print(f\"10的最大公因數是{i}\", end=\" \\n\")\n",
    "except Exception:\n",
    "    print(\"格式錯誤\")\n",
    "\n",
    "        \n",
    "    "
   ]
  }
 ],
 "metadata": {
  "kernelspec": {
   "display_name": "Python 3",
   "language": "python",
   "name": "python3"
  },
  "language_info": {
   "codemirror_mode": {
    "name": "ipython",
    "version": 3
   },
   "file_extension": ".py",
   "mimetype": "text/x-python",
   "name": "python",
   "nbconvert_exporter": "python",
   "pygments_lexer": "ipython3",
   "version": "3.10.15"
  }
 },
 "nbformat": 4,
 "nbformat_minor": 2
}
