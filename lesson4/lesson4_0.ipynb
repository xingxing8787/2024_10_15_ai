{
 "cells": [
  {
   "cell_type": "code",
   "execution_count": 1,
   "metadata": {},
   "outputs": [
    {
     "name": "stdout",
     "output_type": "stream",
     "text": [
      "34.0 公斤 = 74.94 磅\n",
      "122.0 磅 = 55.35 公斤\n"
     ]
    }
   ],
   "source": [
    "# 公斤轉換為磅\n",
    "KILLO_TO_POUND = 2.20426 \n",
    "kilograms = float(input(\"請輸入公斤：\"))\n",
    "pounds = KILLO_TO_POUND * kilograms\n",
    "print(f'{kilograms} 公斤 = {pounds:.2f} 磅')\n",
    "\n",
    "# 磅轉換為公斤\n",
    "pounds = float(input(\"請輸入磅：\"))\n",
    "kilograms = pounds / KILLO_TO_POUND\n",
    "print(f'{pounds} 磅 = {kilograms:.2f} 公斤')"
   ]
  }
 ],
 "metadata": {
  "kernelspec": {
   "display_name": "Python 3",
   "language": "python",
   "name": "python3"
  },
  "language_info": {
   "codemirror_mode": {
    "name": "ipython",
    "version": 3
   },
   "file_extension": ".py",
   "mimetype": "text/x-python",
   "name": "python",
   "nbconvert_exporter": "python",
   "pygments_lexer": "ipython3",
   "version": "3.10.15"
  }
 },
 "nbformat": 4,
 "nbformat_minor": 2
}
