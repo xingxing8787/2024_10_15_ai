{
 "cells": [
  {
   "cell_type": "code",
   "execution_count": 3,
   "metadata": {},
   "outputs": [
    {
     "name": "stdout",
     "output_type": "stream",
     "text": [
      "學生的分數:300.00\n"
     ]
    }
   ],
   "source": [
    "score=eval(input('請輸入學生分數(最高300分):'))\n",
    "is_add=input(\"學生是否符合加分條件(y,n)\")\n",
    "if is_add =='y':\n",
    " score*=1.05\n",
    "if(score>=300):\n",
    " score=300\n",
    "print(f\"學生的分數:{score:.2f}\")\n"
   ]
  },
  {
   "cell_type": "code",
   "execution_count": null,
   "metadata": {},
   "outputs": [],
   "source": [
    "#處理錯誤try...except...else..finally\n",
    "#優雅的失敗\n",
    "#輸出是何種錯誤\n",
    "#else -> 沒有發生錯誤,執行的程式區塊\n",
    "\n",
    "try:\n",
    "    #raise Exception('無法處理')\n",
    "    pass\n",
    "except Exception as e:\n",
    "    print(\"發生錯誤\")\n",
    "    print(f\"錯誤是:{e}\")\n",
    "else:\n",
    "    print('沒有錯誤')"
   ]
  },
  {
   "cell_type": "code",
   "execution_count": 4,
   "metadata": {},
   "outputs": [
    {
     "name": "stdout",
     "output_type": "stream",
     "text": [
      "目前發生錯誤:invalid decimal literal (<string>, line 1)\n"
     ]
    }
   ],
   "source": [
    "try:\n",
    "    money=eval(input(\"輸入金額:\"))\n",
    "    print(money)\n",
    "except Exception as e:\n",
    "    print(f\"目前發生錯誤:{e}\")\n",
    "    "
   ]
  }
 ],
 "metadata": {
  "kernelspec": {
   "display_name": "Python 3",
   "language": "python",
   "name": "python3"
  },
  "language_info": {
   "codemirror_mode": {
    "name": "ipython",
    "version": 3
   },
   "file_extension": ".py",
   "mimetype": "text/x-python",
   "name": "python",
   "nbconvert_exporter": "python",
   "pygments_lexer": "ipython3",
   "version": "3.10.15"
  }
 },
 "nbformat": 4,
 "nbformat_minor": 2
}
