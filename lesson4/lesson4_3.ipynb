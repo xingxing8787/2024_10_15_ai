{
 "cells": [
  {
   "cell_type": "code",
   "execution_count": 4,
   "metadata": {},
   "outputs": [
    {
     "name": "stdout",
     "output_type": "stream",
     "text": [
      "不及格\n",
      "很不好\n"
     ]
    }
   ],
   "source": [
    "score=int(input(\"請輸入學生分數0~100\"))\n",
    "\n",
    "if score >= 60:\n",
    "    print(\"及格\")\n",
    "    if(score>=90):\n",
    "        print(\"優\")\n",
    "    else:\n",
    "        print(\"一般\")\n",
    "\n",
    "else:\n",
    "    print(\"不及格\")\n",
    "    if(score>=59):\n",
    "        print(\"不好\")\n",
    "    else:\n",
    "        print(\"很不好\")"
   ]
  },
  {
   "cell_type": "code",
   "execution_count": null,
   "metadata": {},
   "outputs": [],
   "source": [
    "scores = int(input(\"請輸入學生分數0~100\"))\n",
    "if scores >= 90:\n",
    "    print('優')\n",
    "else:\n",
    "    if scores >= 80:\n",
    "        print('甲')\n",
    "    else:\n",
    "        if scores >= 70:\n",
    "            print('乙')\n",
    "        else:\n",
    "            if scores >= 60:\n",
    "                print('丙')\n",
    "            else:\n",
    "                print('丁')"
   ]
  },
  {
   "cell_type": "code",
   "execution_count": null,
   "metadata": {},
   "outputs": [],
   "source": [
    "#多項選擇\n",
    "scores = int(input(\"請輸入學生分數0~100\"))\n",
    "if scores >= 90:\n",
    "    print('優')\n",
    "elif scores >= 80:    \n",
    "    print('甲')\n",
    "elif scores >= 70:\n",
    "    print('乙')\n",
    "elif scores >= 60:            \n",
    "    print('丙')\n",
    "else:\n",
    "    print('丁')\n"
   ]
  },
  {
   "cell_type": "code",
   "execution_count": 24,
   "metadata": {},
   "outputs": [
    {
     "name": "stdout",
     "output_type": "stream",
     "text": [
      "格式錯誤name 's' is not defined\n"
     ]
    }
   ],
   "source": [
    "try:\n",
    "    height=eval(input(\"輸入身高(公尺):\"))\n",
    "    kg=eval(input(\"請輸入體重(公斤):\"))\n",
    "    H=height/100\n",
    "    BMI=kg/H**2\n",
    "\n",
    "    if(24<=BMI<27):\n",
    "        print(f\"過重,你的BMI{BMI:.2f}\")\n",
    "    elif (27<=BMI<30):\n",
    "        print(f\"輕度肥胖,你的BMI{BMI:.2f}\")\n",
    "    elif (30<=BMI<35):\n",
    "        print(f\"中度肥胖,你的BMI{BMI:.2f}\")\n",
    "    else:\n",
    "        print(f\"重度肥胖,你的BMI{BMI:.2f}\")\n",
    "except Exception as e:\n",
    "    print(f\"格式錯誤{e}\")\n"
   ]
  }
 ],
 "metadata": {
  "kernelspec": {
   "display_name": "Python 3",
   "language": "python",
   "name": "python3"
  },
  "language_info": {
   "codemirror_mode": {
    "name": "ipython",
    "version": 3
   },
   "file_extension": ".py",
   "mimetype": "text/x-python",
   "name": "python",
   "nbconvert_exporter": "python",
   "pygments_lexer": "ipython3",
   "version": "3.10.15"
  }
 },
 "nbformat": 4,
 "nbformat_minor": 2
}
