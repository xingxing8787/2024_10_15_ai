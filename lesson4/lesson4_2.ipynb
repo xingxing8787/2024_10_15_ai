{
 "cells": [
  {
   "cell_type": "code",
   "execution_count": 4,
   "metadata": {},
   "outputs": [
    {
     "name": "stdout",
     "output_type": "stream",
     "text": [
      "錯誤:unterminated string literal (detected at line 1) (<string>, line 1)\n"
     ]
    }
   ],
   "source": [
    "#學生總分最高為300\n",
    "#如果分數超過300,就以300分為準\n",
    "#有些學生可以加分5%\n",
    "\n",
    "try:\n",
    "    scores = eval(input('請輸入學生分數(最高300分):'))\n",
    "    if(scores > 300):\n",
    "        scores = 300\n",
    "    is_add = input(\"學生是否符合加分條件?(y,n)\")\n",
    "    if is_add == 'y': #巢狀判斷\n",
    "        scores *= 1.05\n",
    "        if scores > 300:\n",
    "            scores = 300\n",
    "    print(f\"學生的分數:{scores:.0f}\")\n",
    "except Exception as e:\n",
    "    print(f\"錯誤:{e}\")\n",
    "except SyntaxError:\n",
    "    print(\"不知明的錯誤\")\n"
   ]
  }
 ],
 "metadata": {
  "kernelspec": {
   "display_name": "Python 3",
   "language": "python",
   "name": "python3"
  },
  "language_info": {
   "codemirror_mode": {
    "name": "ipython",
    "version": 3
   },
   "file_extension": ".py",
   "mimetype": "text/x-python",
   "name": "python",
   "nbconvert_exporter": "python",
   "pygments_lexer": "ipython3",
   "version": "3.10.15"
  }
 },
 "nbformat": 4,
 "nbformat_minor": 2
}
