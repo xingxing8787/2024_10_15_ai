{
 "cells": [
  {
   "cell_type": "code",
   "execution_count": 2,
   "metadata": {},
   "outputs": [
    {
     "name": "stdout",
     "output_type": "stream",
     "text": [
      "上底:2,下底:8,高:4\n",
      "面積:20\n"
     ]
    }
   ],
   "source": [
    "top=int(input(\"請輸入上底:\"))\n",
    "bottom=int(input(\"請輸入下底:\"))\n",
    "height=int(input(\"請輸入高:\"))\n",
    "\n",
    "area=(top+bottom)*height//2\n",
    "print(f\"上底:{top},下底:{bottom},高:{height}\")\n",
    "print(f\"面積:{area}\")"
   ]
  },
  {
   "cell_type": "code",
   "execution_count": null,
   "metadata": {},
   "outputs": [],
   "source": [
    "radius=float(input('輸入半徑'))\n",
    "pi=3.1415962\n",
    "print(f\"半徑:{radius},面積:{pi*radius**2}\")"
   ]
  },
  {
   "cell_type": "code",
   "execution_count": 3,
   "metadata": {},
   "outputs": [
    {
     "name": "stdout",
     "output_type": "stream",
     "text": [
      "半徑:2.0,面積:12.57\n"
     ]
    }
   ],
   "source": [
    "radius=float(input('輸入半徑'))\n",
    "pi=3.1415962\n",
    "area=pi*radius**2\n",
    "print(f\"半徑:{radius},面積:{area:.2f}\")"
   ]
  },
  {
   "cell_type": "code",
   "execution_count": 4,
   "metadata": {},
   "outputs": [
    {
     "name": "stdout",
     "output_type": "stream",
     "text": [
      "對角:41.81\n"
     ]
    }
   ],
   "source": [
    "import math\n",
    "side=float(input(\"請輸入對邊:\"))\n",
    "another_side=float(input(\"請輸入斜邊:\"))\n",
    "radian=math.asin(side/another_side)\n",
    "degree=math.degrees(radian)\n",
    "print(f'對角:{round(degree,ndigits=2)}')\n"
   ]
  }
 ],
 "metadata": {
  "kernelspec": {
   "display_name": "Python 3",
   "language": "python",
   "name": "python3"
  },
  "language_info": {
   "codemirror_mode": {
    "name": "ipython",
    "version": 3
   },
   "file_extension": ".py",
   "mimetype": "text/x-python",
   "name": "python",
   "nbconvert_exporter": "python",
   "pygments_lexer": "ipython3",
   "version": "3.10.15"
  }
 },
 "nbformat": 4,
 "nbformat_minor": 2
}
